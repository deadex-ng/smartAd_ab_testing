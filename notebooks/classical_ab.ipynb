{
  "nbformat": 4,
  "nbformat_minor": 0,
  "metadata": {
    "colab": {
      "name": "classical_ab.ipynb",
      "provenance": [],
      "collapsed_sections": []
    },
    "kernelspec": {
      "display_name": "Python 3",
      "name": "python3"
    },
    "language_info": {
      "name": "python"
    }
  },
  "cells": [
    {
      "cell_type": "code",
      "metadata": {
        "id": "HkxmJRpCyDmO"
      },
      "source": [
        "data_url = 'https://raw.githubusercontent.com/deadex-ng/smartAd_ab_testing/main/data/AdSmartABdata.csv'"
      ],
      "execution_count": 69,
      "outputs": []
    },
    {
      "cell_type": "markdown",
      "metadata": {
        "id": "hLdvAj_tqOSp"
      },
      "source": [
        "Experiment Hypothesis\n",
        "\n",
        "The null hypothesis for this experiment is that there is no difference in brand awereness between the exposed group and control group.\n",
        "\n",
        "The alternative hypothesis for this experiment is that the exposed are more aware of the brand than the control group."
      ]
    },
    {
      "cell_type": "code",
      "metadata": {
        "id": "BrI9injD1B5j"
      },
      "source": [
        "import pandas as pd\n",
        "import seaborn as sns\n",
        "import math as mt \n",
        "import matplotlib.pyplot as plt\n",
        "from scipy.stats import norm"
      ],
      "execution_count": 70,
      "outputs": []
    },
    {
      "cell_type": "code",
      "metadata": {
        "colab": {
          "base_uri": "https://localhost:8080/",
          "height": 111
        },
        "id": "ppyT90aj1Isd",
        "outputId": "d0ac26a1-4827-4187-dcd0-07967706ba34"
      },
      "source": [
        "df = pd.read_csv(data_url)\n",
        "df.head(2)"
      ],
      "execution_count": 71,
      "outputs": [
        {
          "output_type": "execute_result",
          "data": {
            "text/html": [
              "<div>\n",
              "<style scoped>\n",
              "    .dataframe tbody tr th:only-of-type {\n",
              "        vertical-align: middle;\n",
              "    }\n",
              "\n",
              "    .dataframe tbody tr th {\n",
              "        vertical-align: top;\n",
              "    }\n",
              "\n",
              "    .dataframe thead th {\n",
              "        text-align: right;\n",
              "    }\n",
              "</style>\n",
              "<table border=\"1\" class=\"dataframe\">\n",
              "  <thead>\n",
              "    <tr style=\"text-align: right;\">\n",
              "      <th></th>\n",
              "      <th>auction_id</th>\n",
              "      <th>experiment</th>\n",
              "      <th>date</th>\n",
              "      <th>hour</th>\n",
              "      <th>device_make</th>\n",
              "      <th>platform_os</th>\n",
              "      <th>browser</th>\n",
              "      <th>yes</th>\n",
              "      <th>no</th>\n",
              "    </tr>\n",
              "  </thead>\n",
              "  <tbody>\n",
              "    <tr>\n",
              "      <th>0</th>\n",
              "      <td>0008ef63-77a7-448b-bd1e-075f42c55e39</td>\n",
              "      <td>exposed</td>\n",
              "      <td>2020-07-10</td>\n",
              "      <td>8</td>\n",
              "      <td>Generic Smartphone</td>\n",
              "      <td>6</td>\n",
              "      <td>Chrome Mobile</td>\n",
              "      <td>0</td>\n",
              "      <td>0</td>\n",
              "    </tr>\n",
              "    <tr>\n",
              "      <th>1</th>\n",
              "      <td>000eabc5-17ce-4137-8efe-44734d914446</td>\n",
              "      <td>exposed</td>\n",
              "      <td>2020-07-07</td>\n",
              "      <td>10</td>\n",
              "      <td>Generic Smartphone</td>\n",
              "      <td>6</td>\n",
              "      <td>Chrome Mobile</td>\n",
              "      <td>0</td>\n",
              "      <td>0</td>\n",
              "    </tr>\n",
              "  </tbody>\n",
              "</table>\n",
              "</div>"
            ],
            "text/plain": [
              "                             auction_id experiment  ... yes  no\n",
              "0  0008ef63-77a7-448b-bd1e-075f42c55e39    exposed  ...   0   0\n",
              "1  000eabc5-17ce-4137-8efe-44734d914446    exposed  ...   0   0\n",
              "\n",
              "[2 rows x 9 columns]"
            ]
          },
          "metadata": {
            "tags": []
          },
          "execution_count": 71
        }
      ]
    },
    {
      "cell_type": "code",
      "metadata": {
        "colab": {
          "base_uri": "https://localhost:8080/"
        },
        "id": "o4yj1Y8LrHp7",
        "outputId": "46ae5213-aae6-4702-87e0-cd0a58bd7daa"
      },
      "source": [
        "#get number of rows and columns from the data\n",
        "df.shape"
      ],
      "execution_count": 72,
      "outputs": [
        {
          "output_type": "execute_result",
          "data": {
            "text/plain": [
              "(8077, 9)"
            ]
          },
          "metadata": {
            "tags": []
          },
          "execution_count": 72
        }
      ]
    },
    {
      "cell_type": "code",
      "metadata": {
        "colab": {
          "base_uri": "https://localhost:8080/"
        },
        "id": "uu4A2ywFGhQX",
        "outputId": "46afe53e-d9fd-4379-bd51-43ebac353bf6"
      },
      "source": [
        "#check data types of the columns \n",
        "df.dtypes"
      ],
      "execution_count": 73,
      "outputs": [
        {
          "output_type": "execute_result",
          "data": {
            "text/plain": [
              "auction_id     object\n",
              "experiment     object\n",
              "date           object\n",
              "hour            int64\n",
              "device_make    object\n",
              "platform_os     int64\n",
              "browser        object\n",
              "yes             int64\n",
              "no              int64\n",
              "dtype: object"
            ]
          },
          "metadata": {
            "tags": []
          },
          "execution_count": 73
        }
      ]
    },
    {
      "cell_type": "code",
      "metadata": {
        "id": "ZZPwpR_LIiOn"
      },
      "source": [
        "#Histogran ploting function \n",
        "def plot_hist(df:pd.DataFrame, column:str, color:str)->None:\n",
        "    plt.figure(figsize=(10, 5))\n",
        "    # fig, ax = plt.subplots(1, figsize=(12, 7))\n",
        "    sns.displot(data=df, x=column, color=color, height=5, aspect=2)\n",
        "    plt.xticks(rotation=90)\n",
        "    plt.title(f'Distribution of {column}', size=20, fontweight='bold')\n",
        "    plt.show()\n"
      ],
      "execution_count": 74,
      "outputs": []
    },
    {
      "cell_type": "code",
      "metadata": {
        "colab": {
          "base_uri": "https://localhost:8080/",
          "height": 540
        },
        "id": "Y9T2vP-KXOgy",
        "outputId": "e78b50da-43d4-4645-cae2-328e8c23b06b"
      },
      "source": [
        "plot_hist(df,'browser','orange') "
      ],
      "execution_count": 75,
      "outputs": [
        {
          "output_type": "display_data",
          "data": {
            "text/plain": [
              "<Figure size 720x360 with 0 Axes>"
            ]
          },
          "metadata": {
            "tags": []
          }
        },
        {
          "output_type": "display_data",
          "data": {
            "image/png": "[encoded data removed]",
            "text/plain": [
              "<Figure size 720x360 with 1 Axes>"
            ]
          },
          "metadata": {
            "tags": [],
            "needs_background": "light"
          }
        }
      ]
    },
    {
      "cell_type": "markdown",
      "metadata": {
        "id": "FC_pNoQwwOon"
      },
      "source": [
        ">>> The histogram shows the browsers in corespondence with the number of users who use them. Chrome mobile is the most used browser."
      ]
    },
    {
      "cell_type": "code",
      "metadata": {
        "colab": {
          "base_uri": "https://localhost:8080/",
          "height": 417
        },
        "id": "w2pt4fHFW0QD",
        "outputId": "1a420c15-d8ac-45c4-af78-c18d3b8d52b9"
      },
      "source": [
        "plot_hist(df,'platform_os','red') "
      ],
      "execution_count": 76,
      "outputs": [
        {
          "output_type": "display_data",
          "data": {
            "text/plain": [
              "<Figure size 720x360 with 0 Axes>"
            ]
          },
          "metadata": {
            "tags": []
          }
        },
        {
          "output_type": "display_data",
          "data": {
            "image/png": "[encoded data removed]",
            "text/plain": [
              "<Figure size 720x360 with 1 Axes>"
            ]
          },
          "metadata": {
            "tags": [],
            "needs_background": "light"
          }
        }
      ]
    },
    {
      "cell_type": "markdown",
      "metadata": {
        "id": "W8QZHa4gxGrN"
      },
      "source": [
        ">>> This graph shows the distribution of platform os used. From the graph,it's clear that users are clearly divided on the platform os that they use."
      ]
    },
    {
      "cell_type": "code",
      "metadata": {
        "colab": {
          "base_uri": "https://localhost:8080/",
          "height": 439
        },
        "id": "oHbAc-FqmHRT",
        "outputId": "2417264a-2346-43c6-d800-e90083139619"
      },
      "source": [
        "plot_hist(df,'experiment','green')  "
      ],
      "execution_count": 77,
      "outputs": [
        {
          "output_type": "display_data",
          "data": {
            "text/plain": [
              "<Figure size 720x360 with 0 Axes>"
            ]
          },
          "metadata": {
            "tags": []
          }
        },
        {
          "output_type": "display_data",
          "data": {
            "image/png": "[encoded data removed]",
            "text/plain": [
              "<Figure size 720x360 with 1 Axes>"
            ]
          },
          "metadata": {
            "tags": [],
            "needs_background": "light"
          }
        }
      ]
    },
    {
      "cell_type": "markdown",
      "metadata": {
        "id": "M2JFi50EktId"
      },
      "source": [
        ">>> The histogram shows the distribution of users.There are two groups of users and each belong to a certain group,either 'exposed' or 'control'"
      ]
    },
    {
      "cell_type": "code",
      "metadata": {
        "colab": {
          "base_uri": "https://localhost:8080/",
          "height": 410
        },
        "id": "bqQ3W_9bmufM",
        "outputId": "65b5901b-9500-4345-a294-c95a500ca793"
      },
      "source": [
        "plot_hist(df,'hour','blue')  "
      ],
      "execution_count": 78,
      "outputs": [
        {
          "output_type": "display_data",
          "data": {
            "text/plain": [
              "<Figure size 720x360 with 0 Axes>"
            ]
          },
          "metadata": {
            "tags": []
          }
        },
        {
          "output_type": "display_data",
          "data": {
            "image/png": "[encoded data removed]",
            "text/plain": [
              "<Figure size 720x360 with 1 Axes>"
            ]
          },
          "metadata": {
            "tags": [],
            "needs_background": "light"
          }
        }
      ]
    },
    {
      "cell_type": "markdown",
      "metadata": {
        "id": "i0hik7e1OXvR"
      },
      "source": [
        ">>> Histogram shows time has a negative skew with alot of users seeeing the ad from smartAD at 15pm."
      ]
    },
    {
      "cell_type": "code",
      "metadata": {
        "id": "KSDgXXwzNoSv"
      },
      "source": [
        "#extracting day and month from the date \n",
        "df['datetime'] = pd.to_datetime(df['date'],format='%Y-%m-%d')\n",
        "df.drop('date',axis=1,inplace=True)\n",
        "df['day'] = df['datetime'].dt.strftime('%d')\n",
        "df['month'] = df['datetime'].dt.strftime('%m')\n",
        "\n",
        "df.drop('datetime',axis=1,inplace=True)"
      ],
      "execution_count": 79,
      "outputs": []
    },
    {
      "cell_type": "code",
      "metadata": {
        "id": "CqHz1yHpN8Ac",
        "outputId": "b2431c34-6c4f-4abf-cade-cd26e13fd705",
        "colab": {
          "base_uri": "https://localhost:8080/",
          "height": 410
        }
      },
      "source": [
        "plot_hist(df,'day','yellow')"
      ],
      "execution_count": 80,
      "outputs": [
        {
          "output_type": "display_data",
          "data": {
            "text/plain": [
              "<Figure size 720x360 with 0 Axes>"
            ]
          },
          "metadata": {
            "tags": []
          }
        },
        {
          "output_type": "display_data",
          "data": {
            "image/png": "[encoded data removed]",
            "text/plain": [
              "<Figure size 720x360 with 1 Axes>"
            ]
          },
          "metadata": {
            "tags": [],
            "needs_background": "light"
          }
        }
      ]
    },
    {
      "cell_type": "markdown",
      "metadata": {
        "id": "jX5Gm5tlP2A4"
      },
      "source": [
        ">>> The histogram shows that alot of users were able to see the add on on the 3rd of July 2020"
      ]
    },
    {
      "cell_type": "code",
      "metadata": {
        "id": "VKgQRcUqPTSe",
        "outputId": "ccfa1632-6829-4af8-a7ef-ba45f77da5e4",
        "colab": {
          "base_uri": "https://localhost:8080/",
          "height": 410
        }
      },
      "source": [
        "plot_hist(df,'month','purple')"
      ],
      "execution_count": 81,
      "outputs": [
        {
          "output_type": "display_data",
          "data": {
            "text/plain": [
              "<Figure size 720x360 with 0 Axes>"
            ]
          },
          "metadata": {
            "tags": []
          }
        },
        {
          "output_type": "display_data",
          "data": {
            "image/png": "[encoded data removed]",
            "text/plain": [
              "<Figure size 720x360 with 1 Axes>"
            ]
          },
          "metadata": {
            "tags": [],
            "needs_background": "light"
          }
        }
      ]
    },
    {
      "cell_type": "markdown",
      "metadata": {
        "id": "t0eCa_KrPWcn"
      },
      "source": [
        ">>>This tells us that the experiment was only run for the month of July 2020"
      ]
    },
    {
      "cell_type": "markdown",
      "metadata": {
        "id": "5gB3yIV5fx5b"
      },
      "source": [
        "Invariate metrics from_ the data\n",
        "\n",
        "\n",
        "1.   number of users in_ exposed + control \n",
        "2.   device make in_ each group\n",
        "3.   platform os in_ each group\n",
        "4.   browser in_ each group\n",
        "\n",
        "\n"
      ]
    },
    {
      "cell_type": "code",
      "metadata": {
        "id": "oL1jBfivcBMw"
      },
      "source": [
        "df_exposed = df.loc[df['experiment']=='exposed']\n",
        "df_control = df.loc[df['experiment']=='control']"
      ],
      "execution_count": 82,
      "outputs": []
    },
    {
      "cell_type": "code",
      "metadata": {
        "id": "JIqsEOVK1Ugu"
      },
      "source": [
        "exp_users = df_exposed['auction_id'].nunique()\n",
        "cont_users = df_control['auction_id'].nunique()\n",
        "exp_dev = df_exposed['device_make'].nunique()\n",
        "cont_dev = df_control['device_make'].nunique()\n",
        "exp_platos = df_exposed['platform_os'].nunique()\n",
        "cont_platos = df_control['platform_os'].nunique()\n",
        "exp_browser = df_exposed['browser'].nunique()\n",
        "cont_browser = df_control['browser'].nunique()"
      ],
      "execution_count": 83,
      "outputs": []
    },
    {
      "cell_type": "code",
      "metadata": {
        "colab": {
          "base_uri": "https://localhost:8080/"
        },
        "id": "0TdX7TXWenKv",
        "outputId": "c899e2ff-3651-4b98-e59a-7b3c35601ecd"
      },
      "source": [
        "print('Exposed Users: ',exp_users)\n",
        "print('Control Users: ',cont_users)\n",
        "users_total = exp_users + cont_users"
      ],
      "execution_count": 84,
      "outputs": [
        {
          "output_type": "stream",
          "text": [
            "Exposed Users:  4006\n",
            "Control Users:  4071\n"
          ],
          "name": "stdout"
        }
      ]
    },
    {
      "cell_type": "markdown",
      "metadata": {
        "id": "5oEuQNjKgd4S"
      },
      "source": [
        "The number of users in 'exposed' and 'control' is relatively similar. "
      ]
    },
    {
      "cell_type": "code",
      "metadata": {
        "colab": {
          "base_uri": "https://localhost:8080/"
        },
        "id": "7MJ4GMYle9RP",
        "outputId": "1db617d9-9757-46f2-a656-fc9ffb4ca2c8"
      },
      "source": [
        "print('Exposed Users Devices: ',exp_dev)\n",
        "print('Control Users Devices: ',cont_dev)"
      ],
      "execution_count": 85,
      "outputs": [
        {
          "output_type": "stream",
          "text": [
            "Exposed Users Devices:  218\n",
            "Control Users Devices:  169\n"
          ],
          "name": "stdout"
        }
      ]
    },
    {
      "cell_type": "code",
      "metadata": {
        "colab": {
          "base_uri": "https://localhost:8080/"
        },
        "id": "zFUVyiZ2fHxS",
        "outputId": "70c65a97-b04d-4b2b-ad31-013ffa039d92"
      },
      "source": [
        "print('Exposed Users Platform os: ',exp_platos)\n",
        "print('Control Users: Platform os: ',cont_platos)"
      ],
      "execution_count": 86,
      "outputs": [
        {
          "output_type": "stream",
          "text": [
            "Exposed Users Platform os:  3\n",
            "Control Users: Platform os:  2\n"
          ],
          "name": "stdout"
        }
      ]
    },
    {
      "cell_type": "code",
      "metadata": {
        "colab": {
          "base_uri": "https://localhost:8080/"
        },
        "id": "qdKhqlFhfWh0",
        "outputId": "f6291433-2ded-412b-9128-312aaf936af4"
      },
      "source": [
        "print('Exposed Users Browser: ',exp_browser)\n",
        "print('Control Users Browser: ',cont_browser)"
      ],
      "execution_count": 87,
      "outputs": [
        {
          "output_type": "stream",
          "text": [
            "Exposed Users Browser:  12\n",
            "Control Users Browser:  12\n"
          ],
          "name": "stdout"
        }
      ]
    },
    {
      "cell_type": "markdown",
      "metadata": {
        "id": "-RA0ukiJgtDu"
      },
      "source": [
        "Evaluation metrics \n",
        "\n",
        "1.   Gross Conversion(people who remember the brand/Total number of users)\n",
        "2.   Rentention(People who remember the brand/People who are exposed)\n",
        "3.   Net Conversion( those who remember brand out of all total users)\n",
        "\n"
      ]
    },
    {
      "cell_type": "code",
      "metadata": {
        "id": "8WgN281JpAei"
      },
      "source": [
        "baseline = {\"Cookies\":1000,\"Exposed\":540,\"GConversion\":0.20625,\n",
        "           \"Retention\":0.53,\"NConversion\":0.109313}"
      ],
      "execution_count": 88,
      "outputs": []
    },
    {
      "cell_type": "code",
      "metadata": {
        "colab": {
          "base_uri": "https://localhost:8080/"
        },
        "id": "XEOhE2hv9ZAU",
        "outputId": "fdd33c8f-0279-422f-822a-7ca9d44074fb"
      },
      "source": [
        "#Scale The counts estimates\n",
        "baseline[\"Cookies\"] = 250\n",
        "baseline[\"Exposed\"]=baseline[\"Exposed\"]*(5000/1000)\n",
        "baseline"
      ],
      "execution_count": 89,
      "outputs": [
        {
          "output_type": "execute_result",
          "data": {
            "text/plain": [
              "{'Cookies': 250,\n",
              " 'Exposed': 2700.0,\n",
              " 'GConversion': 0.20625,\n",
              " 'NConversion': 0.109313,\n",
              " 'Retention': 0.53}"
            ]
          },
          "metadata": {
            "tags": []
          },
          "execution_count": 89
        }
      ]
    },
    {
      "cell_type": "markdown",
      "metadata": {
        "id": "iDX2Q6z3rdMV"
      },
      "source": [
        "Assumptions \n",
        "1. Cookies = Avg number of cookies on our site \n",
        "2. Exposed = Avg number of those who are shown a new campagn\n",
        "3. GConversion = Those exposed out of all total users\n",
        "4. Rentention = Remember brand given Exposed\n",
        "5. NetConversion = those who remember brand out of all total users"
      ]
    },
    {
      "cell_type": "code",
      "metadata": {
        "colab": {
          "base_uri": "https://localhost:8080/"
        },
        "id": "PIsM6q-itjQ5",
        "outputId": "e24579f1-2e60-4309-f536-70f34272361a"
      },
      "source": [
        "# Let's get the p and n we need for Gross Conversion (GC)\n",
        "# and compute the Stansard Deviation(sd) rounded to 4 decimal digits.\n",
        "GC={}\n",
        "GC[\"d_min\"]=0.01\n",
        "GC[\"p\"]=baseline[\"GConversion\"]\n",
        "#p is given in this case - or we could calculate it from enrollments/clicks\n",
        "GC[\"n\"]=baseline[\"Exposed\"]\n",
        "GC[\"sd\"]=round(mt.sqrt((GC[\"p\"]*(1-GC[\"p\"]))/GC[\"n\"]),4)\n",
        "GC[\"sd\"]"
      ],
      "execution_count": 90,
      "outputs": [
        {
          "output_type": "execute_result",
          "data": {
            "text/plain": [
              "0.0078"
            ]
          },
          "metadata": {
            "tags": []
          },
          "execution_count": 90
        }
      ]
    },
    {
      "cell_type": "code",
      "metadata": {
        "colab": {
          "base_uri": "https://localhost:8080/"
        },
        "id": "EBfp7DFMEqTV",
        "outputId": "73327244-b551-460b-9543-3b13d26fdf23"
      },
      "source": [
        "# Let's get the p and n we need for Retention(R)\n",
        "# and compute the Stansard Deviation(sd) rounded to 4 decimal digits.\n",
        "R={}\n",
        "R[\"d_min\"]=0.01\n",
        "R[\"p\"]=baseline[\"Retention\"]\n",
        "R[\"n\"]=baseline[\"Exposed\"]\n",
        "R[\"sd\"]=round(mt.sqrt((R[\"p\"]*(1-R[\"p\"]))/R[\"n\"]),4)\n",
        "R[\"sd\"]"
      ],
      "execution_count": 91,
      "outputs": [
        {
          "output_type": "execute_result",
          "data": {
            "text/plain": [
              "0.0096"
            ]
          },
          "metadata": {
            "tags": []
          },
          "execution_count": 91
        }
      ]
    },
    {
      "cell_type": "code",
      "metadata": {
        "colab": {
          "base_uri": "https://localhost:8080/"
        },
        "id": "vc7iTDZnFVej",
        "outputId": "6bf273a9-4a77-472e-a5ed-adb6eb4a0a29"
      },
      "source": [
        "# Let's get the p and n we need for Net Conversion (NC)\n",
        "# and compute the Standard Deviation (sd) rounded to 4 decimal digits.\n",
        "NC={}\n",
        "NC[\"d_min\"]=0.0075\n",
        "NC[\"p\"]=baseline[\"NConversion\"]\n",
        "NC[\"n\"]=baseline[\"Cookies\"]\n",
        "NC[\"sd\"]=round(mt.sqrt((NC[\"p\"]*(1-NC[\"p\"]))/NC[\"n\"]),4)\n",
        "NC[\"sd\"]"
      ],
      "execution_count": 92,
      "outputs": [
        {
          "output_type": "execute_result",
          "data": {
            "text/plain": [
              "0.0197"
            ]
          },
          "metadata": {
            "tags": []
          },
          "execution_count": 92
        }
      ]
    },
    {
      "cell_type": "markdown",
      "metadata": {
        "id": "AeHh5EaUNI3J"
      },
      "source": [
        "We now need to calculate the sample size needed for our experiment.The sample size is calculated using the code below."
      ]
    },
    {
      "cell_type": "code",
      "metadata": {
        "id": "cXmmF26pMx4v"
      },
      "source": [
        "def get_z_score(alpha):\n",
        "  return norm.ppf(alpha)\n",
        "\n",
        "def get_sds(p,d):\n",
        "  sd1=mt.sqrt(2*p*(1-p))\n",
        "  sd2=mt.sqrt(p*(1-p)+(p+d)*(1-(p+d)))\n",
        "  sds=[sd1,sd2]\n",
        "  return sds\n",
        "\n",
        "def get_sampSize(sds,alpha,beta,d):\n",
        "    n=pow((get_z_score(1-alpha/2)*sds[0]+get_z_score(1-beta)*sds[1]),2)/pow(d,2)\n",
        "    return n"
      ],
      "execution_count": 93,
      "outputs": []
    },
    {
      "cell_type": "markdown",
      "metadata": {
        "id": "p2Sjp-6rq1FL"
      },
      "source": [
        "The hypothesis is tasted using z-score because the sample size is more than 30. Though the data is not normally distributed, the central limit theorem says that as samples get larger,samples are considered to be approximatelly normally distributed.This gives us the confidence to us the z-test. \n",
        "\n",
        "The z-test requires that the standard deviation and variance be known in advance. In our case, the standard deviation and variance can be calculated."
      ]
    },
    {
      "cell_type": "markdown",
      "metadata": {
        "id": "uxfX5J2aP7GY"
      },
      "source": [
        "Calculate sample size per metric."
      ]
    },
    {
      "cell_type": "code",
      "metadata": {
        "id": "JBOuPAU4QEHK"
      },
      "source": [
        "#d is the minimun change\n",
        "GC[\"d\"]=0.01\n",
        "R[\"d\"]=0.01\n",
        "NC[\"d\"]=0.0075"
      ],
      "execution_count": 94,
      "outputs": []
    },
    {
      "cell_type": "markdown",
      "metadata": {
        "id": "YRXbGcOs_bw8"
      },
      "source": [
        "Gross Conversion sample"
      ]
    },
    {
      "cell_type": "code",
      "metadata": {
        "colab": {
          "base_uri": "https://localhost:8080/"
        },
        "id": "VcU2QJ-9QWSa",
        "outputId": "cf7da460-8212-4d81-93b1-6fe04ea46395"
      },
      "source": [
        "# Let's get an integer value for simplicity\n",
        "GC[\"SampSize\"]=round(get_sampSize(get_sds(GC[\"p\"],GC[\"d\"]),0.05,0.2,GC[\"d\"]))\n",
        "GC[\"SampSize\"]"
      ],
      "execution_count": 95,
      "outputs": [
        {
          "output_type": "execute_result",
          "data": {
            "text/plain": [
              "25835"
            ]
          },
          "metadata": {
            "tags": []
          },
          "execution_count": 95
        }
      ]
    },
    {
      "cell_type": "code",
      "metadata": {
        "colab": {
          "base_uri": "https://localhost:8080/"
        },
        "id": "k1WQJzBR_DPr",
        "outputId": "a419337d-df2f-4f25-fdf2-661c5000d97b"
      },
      "source": [
        "GC[\"SampSize\"]=round(GC[\"SampSize\"]/0.08*2)\n",
        "GC[\"SampSize\"]"
      ],
      "execution_count": 96,
      "outputs": [
        {
          "output_type": "execute_result",
          "data": {
            "text/plain": [
              "645875"
            ]
          },
          "metadata": {
            "tags": []
          },
          "execution_count": 96
        }
      ]
    },
    {
      "cell_type": "markdown",
      "metadata": {
        "id": "8mCJVucq_goC"
      },
      "source": [
        "Rentention sample"
      ]
    },
    {
      "cell_type": "code",
      "metadata": {
        "colab": {
          "base_uri": "https://localhost:8080/"
        },
        "id": "vM67X2cp_qhQ",
        "outputId": "fd759146-b219-49ec-b704-6580f66a3f7f"
      },
      "source": [
        "# Getting a nice integer value\n",
        "R[\"SampSize\"]=round(get_sampSize(get_sds(R[\"p\"],R[\"d\"]),0.05,0.2,R[\"d\"]))\n",
        "R[\"SampSize\"]"
      ],
      "execution_count": 97,
      "outputs": [
        {
          "output_type": "execute_result",
          "data": {
            "text/plain": [
              "39087"
            ]
          },
          "metadata": {
            "tags": []
          },
          "execution_count": 97
        }
      ]
    },
    {
      "cell_type": "code",
      "metadata": {
        "colab": {
          "base_uri": "https://localhost:8080/"
        },
        "id": "Q6W4BItS_yoF",
        "outputId": "5455c395-fdeb-416b-8a26-ae1eff45f125"
      },
      "source": [
        "R[\"SampSize\"]=R[\"SampSize\"]/0.08/0.20625*2\n",
        "R[\"SampSize\"]"
      ],
      "execution_count": 98,
      "outputs": [
        {
          "output_type": "execute_result",
          "data": {
            "text/plain": [
              "4737818.181818182"
            ]
          },
          "metadata": {
            "tags": []
          },
          "execution_count": 98
        }
      ]
    },
    {
      "cell_type": "markdown",
      "metadata": {
        "id": "o0g-7vqh_8sj"
      },
      "source": [
        "Net conversion sample"
      ]
    },
    {
      "cell_type": "code",
      "metadata": {
        "colab": {
          "base_uri": "https://localhost:8080/"
        },
        "id": "yx25oiUaACxl",
        "outputId": "889bfc97-1829-4f02-d760-cf8964ba15f3"
      },
      "source": [
        "# Getting a nice integer value\n",
        "NC[\"SampSize\"]=round(get_sampSize(get_sds(NC[\"p\"],NC[\"d\"]),0.05,0.2,NC[\"d\"]))\n",
        "NC[\"SampSize\"]"
      ],
      "execution_count": 99,
      "outputs": [
        {
          "output_type": "execute_result",
          "data": {
            "text/plain": [
              "27413"
            ]
          },
          "metadata": {
            "tags": []
          },
          "execution_count": 99
        }
      ]
    },
    {
      "cell_type": "code",
      "metadata": {
        "colab": {
          "base_uri": "https://localhost:8080/"
        },
        "id": "LJwvQA-ZAPBP",
        "outputId": "42e3adfe-4816-44eb-afbe-c312481a9236"
      },
      "source": [
        "NC[\"SampSize\"]=NC[\"SampSize\"]/0.08*2\n",
        "NC[\"SampSize\"]"
      ],
      "execution_count": 100,
      "outputs": [
        {
          "output_type": "execute_result",
          "data": {
            "text/plain": [
              "685325.0"
            ]
          },
          "metadata": {
            "tags": []
          },
          "execution_count": 100
        }
      ]
    },
    {
      "cell_type": "code",
      "metadata": {
        "colab": {
          "base_uri": "https://localhost:8080/"
        },
        "id": "8gp6I0v_comP",
        "outputId": "8e99039b-c671-4318-d4d2-c4d38b99a003"
      },
      "source": [
        "p=0.5\n",
        "alpha=0.05\n",
        "p_hat=round(cont_users/(users_total),4)\n",
        "sd=mt.sqrt(p*(1-p)/(users_total))\n",
        "ME=round(get_z_score(1-(alpha/2))*sd,4)\n",
        "print (\"The confidence interval is between\",p-ME,\"and\",p+ME,\"; Is\",p_hat,\"inside this range?\")"
      ],
      "execution_count": 101,
      "outputs": [
        {
          "output_type": "stream",
          "text": [
            "The confidence interval is between 0.4891 and 0.5109 ; Is 0.504 inside this range?\n"
          ],
          "name": "stdout"
        }
      ]
    },
    {
      "cell_type": "markdown",
      "metadata": {
        "id": "ICq5PJjwukYW"
      },
      "source": [
        "Examing effect size"
      ]
    },
    {
      "cell_type": "code",
      "metadata": {
        "colab": {
          "base_uri": "https://localhost:8080/"
        },
        "id": "98t3tB4qupbe",
        "outputId": "5314cae7-13ec-4039-bf12-6f4f252afe4b"
      },
      "source": [
        "#Net Conversion - number of 'yes' divided by number of total number of users\n",
        "yes_exp=df_exposed[\"yes\"].sum()\n",
        "yes_cont=df_control[\"yes\"].sum()\n",
        "\n",
        "\n",
        "NC_cont=yes_exp/exp_users\n",
        "NC_exp=yes_cont/cont_users\n",
        "NC_pooled=(yes_exp+yes_cont)/(exp_users+cont_users)\n",
        "NC_sd_pooled=mt.sqrt(NC_pooled*(1-NC_pooled)*(1/cont_users+1/exp_users))\n",
        "NC_ME=round(get_z_score(1-alpha/2)*NC_sd_pooled,4)\n",
        "NC_diff=round(NC_exp-NC_cont,4)\n",
        "print(\"The change due to the experiment is\",NC_diff*100,\"%\")\n",
        "print(\"Confidence Interval: [\",NC_diff-NC_ME,\",\",NC_diff+NC_ME,\"]\")\n",
        "print (\"The change is statistically significant if the CI doesn't include 0. In that case, it is practically significant if\",NC[\"d_min\"],\"is not in the CI as well.\")"
      ],
      "execution_count": 102,
      "outputs": [
        {
          "output_type": "stream",
          "text": [
            "The change due to the experiment is -1.2 %\n",
            "Confidence Interval: [ -0.0232 , -0.0008000000000000004 ]\n",
            "The change is statistically significant if the CI doesn't include 0. In that case, it is practically significant if 0.0075 is not in the CI as well.\n"
          ],
          "name": "stdout"
        }
      ]
    },
    {
      "cell_type": "markdown",
      "metadata": {
        "id": "xFmhuhItBEAz"
      },
      "source": [
        "According to the result there is a change due to the experiment. The change was both statically and significantly significant.We have a negative change of 1.2%,when we were willing to accept any change greater than 1%.This means the Net Conversion(those who remember the brand out of all users) has decreased by 1.2%."
      ]
    }
  ]
}